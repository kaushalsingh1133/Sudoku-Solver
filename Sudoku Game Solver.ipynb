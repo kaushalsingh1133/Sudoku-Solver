{
 "cells": [
  {
   "cell_type": "code",
   "execution_count": 5,
   "metadata": {},
   "outputs": [
    {
     "name": "stdout",
     "output_type": "stream",
     "text": [
      "5 3 0 0 7 0 0 0 0\n",
      "6 0 0 1 9 5 0 0 0\n",
      "0 9 8 0 0 0 0 6 0\n",
      "8 0 0 0 6 0 0 0 3\n",
      "4 0 0 8 0 3 0 0 1\n",
      "7 0 0 0 2 0 0 0 6\n",
      "0 6 0 0 0 0 2 8 0\n",
      "0 0 0 4 1 9 0 0 5\n",
      "0 0 0 0 8 0 0 7 9\n",
      "\n",
      "5 3 4 6 7 8 9 1 2 \n",
      "6 7 2 1 9 5 3 4 8 \n",
      "1 9 8 3 4 2 5 6 7 \n",
      "8 5 9 7 6 1 4 2 3 \n",
      "4 2 6 8 5 3 7 9 1 \n",
      "7 1 3 9 2 4 8 5 6 \n",
      "9 6 1 5 3 7 2 8 4 \n",
      "2 8 7 4 1 9 6 3 5 \n",
      "3 4 5 2 8 6 1 7 9 \n"
     ]
    }
   ],
   "source": [
    "from math import sqrt\n",
    "def canPlace(mat,i,j,n,k):\n",
    "    # check the column and row whether k is present or not\n",
    "    for z in range(0,n):\n",
    "        if mat[i][z]==k or mat[z][j]==k:\n",
    "            return False\n",
    "    # check whether k is present any subgrid of 3x3 or not\n",
    "    # finding the subgrid starting index in which we r check k value\n",
    "    rn=int(sqrt(n))\n",
    "    si=(i//rn)*rn\n",
    "    sj=(j//rn)*rn\n",
    "    for x in range(si,si+rn):\n",
    "        for y in range(sj,sj+rn):\n",
    "            if mat[x][y]==k:\n",
    "                return False\n",
    "    return True\n",
    "\n",
    "def solveSudoku(mat,i,j,n):\n",
    "    # base case\n",
    "    if i==n:\n",
    "        # Print the matrix\n",
    "        for i in range(n):\n",
    "            for j in range(n):\n",
    "                print(mat[i][j],end=\" \")\n",
    "            print(\"\")\n",
    "        return True\n",
    "    # Case Row end\n",
    "    if j==n:\n",
    "        return solveSudoku(mat,i+1,0,n)\n",
    "    # Skip the prefilled cells\n",
    "    if mat[i][j]!=0:\n",
    "        return solveSudoku(mat,i,j+1,n)\n",
    "    # Rec case\n",
    "    # Fill the currrent cell with possible options\n",
    "    for k in range(1,n+1):\n",
    "        if canPlace(mat,i,j,n,k):\n",
    "            mat[i][j]=k\n",
    "            couldWeSolve=solveSudoku(mat,i,j+1,n)\n",
    "            if couldWeSolve:\n",
    "                return True\n",
    "    # Backtracking\n",
    "    mat[i][j]=0\n",
    "    return False\n",
    "\n",
    "mat=[[0 for i in range(9)] for i in range(9)]\n",
    "\n",
    "for i in range(9):\n",
    "    z=list(map(int,input().split(' ')))\n",
    "    mat[i]=z\n",
    "'''\n",
    "5 3 0 0 7 0 0 0 0\n",
    "6 0 0 1 9 5 0 0 0\n",
    "0 9 8 0 0 0 0 6 0\n",
    "8 0 0 0 6 0 0 0 3\n",
    "4 0 0 8 0 3 0 0 1\n",
    "7 0 0 0 2 0 0 0 6\n",
    "0 6 0 0 0 0 2 8 0\n",
    "0 0 0 4 1 9 0 0 5\n",
    "0 0 0 0 8 0 0 7 9\n",
    "'''\n",
    "print('')\n",
    "aa=solveSudoku(mat,0,0,9)"
   ]
  },
  {
   "cell_type": "code",
   "execution_count": null,
   "metadata": {},
   "outputs": [],
   "source": []
  }
 ],
 "metadata": {
  "kernelspec": {
   "display_name": "Python 3",
   "language": "python",
   "name": "python3"
  },
  "language_info": {
   "codemirror_mode": {
    "name": "ipython",
    "version": 3
   },
   "file_extension": ".py",
   "mimetype": "text/x-python",
   "name": "python",
   "nbconvert_exporter": "python",
   "pygments_lexer": "ipython3",
   "version": "3.7.3"
  }
 },
 "nbformat": 4,
 "nbformat_minor": 2
}
